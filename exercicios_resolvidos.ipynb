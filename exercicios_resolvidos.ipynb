{
 "cells": [
  {
   "cell_type": "code",
   "execution_count": null,
   "metadata": {},
   "outputs": [],
   "source": [
    "##Exercício 18 - Faça um programa que pergunte o preço de três produtos e informe qual \n",
    "#produto você deve comprar, sabendo que a decisão é sempre pelo mais barato.\n",
    "\n",
    "preco1 = float(input(\"Digite o preço do primeiro produto: \"))\n",
    "preco2 = float(input(\"Digite o preço do segundo produto: \"))\n",
    "preco3 = float(input(\"Digite o preço do terceiro produto: \"))\n",
    "\n",
    "if preco1 <= preco2 and preco1 <= preco3:\n",
    "    print(\"Compre o primeiro produto.\")\n",
    "elif preco2 <= preco1 and preco2 <= preco3:\n",
    "    print(\"Compre o segundo produto.\")\n",
    "else:\n",
    "    print(\"Compre o terceiro produto.\")"
   ]
  },
  {
   "cell_type": "code",
   "execution_count": null,
   "metadata": {},
   "outputs": [],
   "source": [
    "##Exercício 19 - Faça um Programa que leia três números e mostre-os em ordem decrescente\n",
    "\n",
    "num1 = float(input(\"Digite o primeiro número: \"))\n",
    "num2 = float(input(\"Digite o segundo número: \"))\n",
    "num3 = float(input(\"Digite o terceiro número: \"))\n",
    "\n",
    "if num1 >= num2 and num1 >= num3:\n",
    "    if num2 >= num3:\n",
    "        print(num1, num2, num3)\n",
    "    else:\n",
    "        print(num1, num3, num2)\n",
    "elif num2 >= num1 and num2 >= num3:\n",
    "    if num1 >= num3:\n",
    "        print(num2, num1, num3)\n",
    "    else:\n",
    "        print(num2, num3, num1)\n",
    "else:\n",
    "    if num1 >= num2:\n",
    "        print(num3, num1, num2)\n",
    "    else:\n",
    "        print(num3, num2, num1)"
   ]
  },
  {
   "cell_type": "code",
   "execution_count": null,
   "metadata": {},
   "outputs": [],
   "source": []
  }
 ],
 "metadata": {
  "language_info": {
   "name": "python"
  }
 },
 "nbformat": 4,
 "nbformat_minor": 2
}
